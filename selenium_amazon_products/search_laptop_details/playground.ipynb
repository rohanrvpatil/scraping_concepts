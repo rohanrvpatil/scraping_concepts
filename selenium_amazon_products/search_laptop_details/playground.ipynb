{
 "cells": [
  {
   "cell_type": "code",
   "execution_count": 1,
   "metadata": {},
   "outputs": [],
   "source": [
    "from bs4 import BeautifulSoup\n",
    "import requests\n",
    "import time\n",
    "import datetime\n",
    "import smtplib"
   ]
  },
  {
   "cell_type": "code",
   "execution_count": 4,
   "metadata": {},
   "outputs": [],
   "source": [
    "from IPython.core.interactiveshell import InteractiveShell\n",
    "InteractiveShell.ast_node_interactivity = \"all\""
   ]
  },
  {
   "cell_type": "code",
   "execution_count": 20,
   "metadata": {},
   "outputs": [
    {
     "name": "stdout",
     "output_type": "stream",
     "text": [
      "Dell Inspiron 3511 Laptop, 15.6\" Full HD Touchscreen, Intel Core i5-1135G7 (Beats Intel i7-1065G7), 32GB DDR4 RAM, 1TB PCIe SSD, SD Card Reader, HDMI, Wi-Fi, Windows 11 Home, Black\n",
      "507.74\n"
     ]
    }
   ],
   "source": [
    "URL = \"https://www.amazon.com/Dell-3511-Touchscreen-i5-1135G7-i7-1065G7/dp/B0BRT67MWZ/ref=sr_1_2?crid=74G0BUC2U3PX&dib=eyJ2IjoiMSJ9.43yTBdOu5DxxPI-rM_YmHQv6Lg4BeV78NDXZ_mXljW_E1Cn6PG3S8IPsse5tmWQ-PEPCgtCx37huK_1UeQ0ixiVujU4fdKVlO6IKgZBE6FUvouUlT5V32w0DIcXdqNt5S0-QxhC_PxI_8RVLorx_geKWcNUkLAkNorsG5_1OHDCnIhQk79xCAMQU4Zg402RceWYZ04yb8l-a2R0pubFdodmZgNaCYCgwSuhPyIgfQ7U.JM8315DeQeirriBB2BmzHGAiKTGO2B_NbDKZB4Hj-f0&dib_tag=se&keywords=dell&qid=1724415095&sprefix=del%2Caps%2C354&sr=8-2\"\n",
    "\n",
    "headers = {\"User-Agent\": \"Mozilla/5.0 (Windows NT 10.0; Win64; x64) AppleWebKit/537.36 (KHTML, like Gecko) Chrome/128.0.0.0 Safari/537.36\", \"Accept-Encoding\":\"gzip, deflate\", \"Accept\":\"text/html,application/xhtml+xml,application/xml;q=0.9,*/*;q=0.8\", \"DNT\":\"1\",\"Connection\":\"close\", \"Upgrade-Insecure-Requests\":\"1\"}\n",
    "\n",
    "page = requests.get(URL, headers=headers)\n",
    "\n",
    "soup = BeautifulSoup(page.content, \"html.parser\")\n",
    "\n",
    "title=soup.find(id='productTitle').get_text()\n",
    "\n",
    "price_span=soup.find(\"span\", class_=\"a-offscreen\")\n",
    "price=price_span.get_text()\n",
    "\n",
    "title=title.strip()\n",
    "price=float(price.strip()[1:])\n",
    "\n",
    "print(title)\n",
    "print(price)"
   ]
  },
  {
   "cell_type": "code",
   "execution_count": 22,
   "metadata": {},
   "outputs": [
    {
     "data": {
      "text/plain": [
       "float"
      ]
     },
     "execution_count": 22,
     "metadata": {},
     "output_type": "execute_result"
    }
   ],
   "source": [
    "type(price)"
   ]
  },
  {
   "cell_type": "code",
   "execution_count": 28,
   "metadata": {},
   "outputs": [
    {
     "data": {
      "text/plain": [
       "17"
      ]
     },
     "execution_count": 28,
     "metadata": {},
     "output_type": "execute_result"
    },
    {
     "data": {
      "text/plain": [
       "192"
      ]
     },
     "execution_count": 28,
     "metadata": {},
     "output_type": "execute_result"
    }
   ],
   "source": [
    "import csv \n",
    "\n",
    "header = ['Title', 'Price ($)']\n",
    "data = [title, price]\n",
    "\n",
    "\n",
    "with open('./data/product_details.csv', 'w', newline='', encoding='UTF8') as f:\n",
    "    writer = csv.writer(f)\n",
    "    writer.writerow(header)\n",
    "    writer.writerow(data)"
   ]
  },
  {
   "cell_type": "code",
   "execution_count": 27,
   "metadata": {},
   "outputs": [
    {
     "data": {
      "text/html": [
       "<div>\n",
       "<style scoped>\n",
       "    .dataframe tbody tr th:only-of-type {\n",
       "        vertical-align: middle;\n",
       "    }\n",
       "\n",
       "    .dataframe tbody tr th {\n",
       "        vertical-align: top;\n",
       "    }\n",
       "\n",
       "    .dataframe thead th {\n",
       "        text-align: right;\n",
       "    }\n",
       "</style>\n",
       "<table border=\"1\" class=\"dataframe\">\n",
       "  <thead>\n",
       "    <tr style=\"text-align: right;\">\n",
       "      <th></th>\n",
       "      <th>Title</th>\n",
       "      <th>Price</th>\n",
       "    </tr>\n",
       "  </thead>\n",
       "  <tbody>\n",
       "    <tr>\n",
       "      <th>0</th>\n",
       "      <td>Dell Inspiron 3511 Laptop, 15.6\" Full HD Touch...</td>\n",
       "      <td>507.74</td>\n",
       "    </tr>\n",
       "  </tbody>\n",
       "</table>\n",
       "</div>"
      ],
      "text/plain": [
       "                                               Title   Price\n",
       "0  Dell Inspiron 3511 Laptop, 15.6\" Full HD Touch...  507.74"
      ]
     },
     "execution_count": 27,
     "metadata": {},
     "output_type": "execute_result"
    }
   ],
   "source": [
    "import pandas as pd\n",
    "import numpy as np\n",
    "import os\n",
    "\n",
    "df=pd.read_csv(\"./data/product_details.csv\")\n",
    "df.head()"
   ]
  },
  {
   "cell_type": "code",
   "execution_count": 37,
   "metadata": {},
   "outputs": [
    {
     "data": {
      "text/plain": [
       "17"
      ]
     },
     "execution_count": 37,
     "metadata": {},
     "output_type": "execute_result"
    }
   ],
   "source": [
    "#Multiple product details\n",
    "\n",
    "\n",
    "from selenium import webdriver\n",
    "from selenium.webdriver.chrome.service import Service\n",
    "from selenium.webdriver.common.by import By\n",
    "from selenium.webdriver.chrome.options import Options\n",
    "from webdriver_manager.chrome import ChromeDriverManager\n",
    "import time\n",
    "import csv\n",
    "import random\n",
    "\n",
    "# Setup WebDriver\n",
    "chrome_options = Options()\n",
    "driver = webdriver.Chrome(service=Service(ChromeDriverManager().install()), options=chrome_options)\n",
    "\n",
    "# URL of the Amazon search results page\n",
    "search_url = 'https://www.amazon.com/s?k=dell+i7+laptop&crid=3OIV4GP9RPUT3&sprefix=dell+i7%2Caps%2C687&ref=nb_sb_ss_ts-doa-p_1_7'\n",
    "\n",
    "# Open the URL\n",
    "driver.get(search_url)\n",
    "\n",
    "# Open a CSV file to write the data\n",
    "with open('./data/laptop_details.csv', 'w', newline='', encoding='UTF8') as file:\n",
    "    writer = csv.writer(file)\n",
    "    writer.writerow(['Title', 'Price ($)'])\n",
    "\n",
    "    \n",
    "    h2_elements = driver.find_elements(By.CSS_SELECTOR, 'h2.a-size-mini a-spacing-none a-color-base s-line-clamp-2')\n",
    "\n",
    "    for h2 in h2_elements:\n",
    "        try:\n",
    "            link = h2.find_element(By.TAG_NAME, 'a').get_attribute('href')\n",
    "            print(link)\n",
    "\n",
    "        except Exception as e:\n",
    "            print(f\"Error: {e}\")\n",
    "            driver.back()\n",
    "            WebDriverWait(driver, 10).until(EC.presence_of_all_elements_located((By.CSS_SELECTOR, 'h2.a-size-mini.a-spacing-none.a-color-base.s-line-clamp-2')))\n",
    "            time.sleep(random.uniform(5, 10))\n",
    "\n",
    "        \n",
    "\n",
    "# Close the WebDriver\n",
    "driver.quit()\n"
   ]
  },
  {
   "cell_type": "code",
   "execution_count": null,
   "metadata": {},
   "outputs": [],
   "source": [
    "driver.get(link)\n",
    "WebDriverWait(driver, 10).until(EC.presence_of_element_located((By.ID, 'productTitle')))\n",
    "\n",
    "title = driver.find_element(By.ID, 'productTitle').text\n",
    "price = driver.find_element(By.CSS_SELECTOR, 'span.a-price.a-text-price.a-size-medium.apexPriceToPay span.a-offscreen').text\n",
    "print(f\"Title: {title}, Price: {price}\")\n",
    "\n",
    "writer.writerow([title.strip(), price.strip()[1:]])\n",
    "\n",
    "driver.back()\n",
    "WebDriverWait(driver, 10).until(EC.presence_of_all_elements_located((By.CSS_SELECTOR, 'h2.a-size-mini.a-spacing-none.a-color-base.s-line-clamp-2')))\n",
    "\n",
    "time.sleep(random.uniform(5, 10))"
   ]
  },
  {
   "cell_type": "code",
   "execution_count": null,
   "metadata": {},
   "outputs": [],
   "source": []
  },
  {
   "cell_type": "code",
   "execution_count": null,
   "metadata": {},
   "outputs": [],
   "source": []
  },
  {
   "cell_type": "code",
   "execution_count": null,
   "metadata": {},
   "outputs": [],
   "source": []
  },
  {
   "cell_type": "code",
   "execution_count": null,
   "metadata": {},
   "outputs": [],
   "source": [
    "# Check if there is a next page\n",
    "        try:\n",
    "            next_button = driver.find_element(By.CSS_SELECTOR, 'a.s-pagination-next')\n",
    "            next_button.click()\n",
    "            time.sleep(2)  # Wait for the page to load\n",
    "        except Exception as e:\n",
    "            print(\"No more pages.\")\n",
    "            break"
   ]
  }
 ],
 "metadata": {
  "kernelspec": {
   "display_name": "base",
   "language": "python",
   "name": "python3"
  },
  "language_info": {
   "codemirror_mode": {
    "name": "ipython",
    "version": 3
   },
   "file_extension": ".py",
   "mimetype": "text/x-python",
   "name": "python",
   "nbconvert_exporter": "python",
   "pygments_lexer": "ipython3",
   "version": "3.11.9"
  }
 },
 "nbformat": 4,
 "nbformat_minor": 2
}
